{
  "nbformat": 4,
  "nbformat_minor": 0,
  "metadata": {
    "colab": {
      "name": "Pilot Navigation System.ipynb",
      "provenance": [],
      "collapsed_sections": [],
      "authorship_tag": "ABX9TyMd0xHjrqJn0ym2HBEfjmIu",
      "include_colab_link": true
    },
    "kernelspec": {
      "name": "python3",
      "display_name": "Python 3"
    }
  },
  "cells": [
    {
      "cell_type": "markdown",
      "metadata": {
        "id": "view-in-github",
        "colab_type": "text"
      },
      "source": [
        "<a href=\"https://colab.research.google.com/github/poet-siva/Plane-Navigation-System/blob/main/Pilot_Navigation_System.ipynb\" target=\"_parent\"><img src=\"https://colab.research.google.com/assets/colab-badge.svg\" alt=\"Open In Colab\"/></a>"
      ]
    },
    {
      "cell_type": "markdown",
      "metadata": {
        "id": "HUbG9viaUtZ3"
      },
      "source": [
        "You all guys are pilots,\n",
        "You are in the air\n",
        "You are approaching an Airport\n",
        "Where you need to land a plane? \n",
        "So there is a need of Navigation system\n",
        "Which can help the pilot understand, should I land the plane of make a Go Around"
      ]
    },
    {
      "cell_type": "markdown",
      "metadata": {
        "id": "XY7QyEVdVKAU"
      },
      "source": [
        "The cases with the pilot are\n",
        " \n",
        " \n",
        " \n",
        "1. If your altitude is more than 10K feet, just go around and then land\n",
        " \n",
        "2. If your altitude is 5k feet, drop a landing gears.\n",
        " \n",
        "3. If your altitude is less than 3K feet, try landing plans with the brakes\n",
        " \n",
        ". Plot will input the Altitude in the system"
      ]
    },
    {
      "cell_type": "code",
      "metadata": {
        "id": "haRHvGkHWFoF"
      },
      "source": [
        "#We need conditional statement,\n",
        " \n",
        "#It is going to have how many condition\n",
        " \n",
        "# What is that we are going to use for the program?\n",
        " \n",
        " \n",
        "#1)IF ELIF ELSE\n",
        "#2) Input()"
      ],
      "execution_count": 1,
      "outputs": []
    },
    {
      "cell_type": "code",
      "metadata": {
        "colab": {
          "base_uri": "https://localhost:8080/"
        },
        "id": "N1nRC5P1YZVW",
        "outputId": "7d0c1b16-197e-44aa-8257-4135254226b4"
      },
      "source": [
        "altitude = int(input (\"Hey Pilot Maara , input your current altitude - \"))"
      ],
      "execution_count": 3,
      "outputs": [
        {
          "output_type": "stream",
          "text": [
            "Hey Pilot Maara , input your current altitude - 8666\n"
          ],
          "name": "stdout"
        }
      ]
    },
    {
      "cell_type": "code",
      "metadata": {
        "colab": {
          "base_uri": "https://localhost:8080/"
        },
        "id": "jJ4Lx-JuYWo1",
        "outputId": "b621bd60-f75f-4a84-e7c1-015e122eddae"
      },
      "source": [
        "altitude"
      ],
      "execution_count": 4,
      "outputs": [
        {
          "output_type": "execute_result",
          "data": {
            "text/plain": [
              "8666"
            ]
          },
          "metadata": {
            "tags": []
          },
          "execution_count": 4
        }
      ]
    },
    {
      "cell_type": "code",
      "metadata": {
        "colab": {
          "base_uri": "https://localhost:8080/"
        },
        "id": "Of0gkqFkZN3O",
        "outputId": "9a5614ea-cc78-45d7-e388-8950a1f86e80"
      },
      "source": [
        "int(altitude)"
      ],
      "execution_count": 5,
      "outputs": [
        {
          "output_type": "execute_result",
          "data": {
            "text/plain": [
              "8666"
            ]
          },
          "metadata": {
            "tags": []
          },
          "execution_count": 5
        }
      ]
    },
    {
      "cell_type": "code",
      "metadata": {
        "colab": {
          "base_uri": "https://localhost:8080/"
        },
        "id": "V5KlCBxZZWSj",
        "outputId": "148fa9d1-a5ef-4abe-8744-32ee8e1eaedd"
      },
      "source": [
        "if altitude >= 10000:\n",
        "   print (\"Hey Pilot Maara, Go around and Land the Plane after reducing your Altitude is 5K\")\n",
        "elif altitude >= 5000 and altitude <= 9999:\n",
        "   print (\"Hey Pilot Maara, Drop your Landing Gear\")\n",
        "elif altitude <= 3000:\n",
        "   print (\"Hey Pilot Maara, Just Land the plane on the Runway!!\")"
      ],
      "execution_count": 9,
      "outputs": [
        {
          "output_type": "stream",
          "text": [
            "Hey Pilot Maara, Drop your Landing Gear\n"
          ],
          "name": "stdout"
        }
      ]
    },
    {
      "cell_type": "code",
      "metadata": {
        "colab": {
          "base_uri": "https://localhost:8080/"
        },
        "id": "1IilqFnvbJm3",
        "outputId": "c94a8cb0-cce0-4c24-b4e4-317e118c8acc"
      },
      "source": [
        " \n",
        " \n",
        "altitude = int(input (\"Hey Pilot Maara , input your current altitude - \"))\n",
        " \n",
        " \n",
        "if altitude >= 10000:\n",
        "   print (\"Hey Pilot Maara, Go around and Land the Plane after reducing your Altitude is 5K\")\n",
        "elif altitude >= 5000 and altitude <= 9999:\n",
        "   print (\"Hey Pilot Maara, Drop your Landing Gear\")\n",
        "elif altitude <= 3000:\n",
        "   print (\"Hey Pilot Maara, Just Land the plane on the Runway!!\")\n",
        "else:\n",
        "   print (\"Nothing works\")"
      ],
      "execution_count": 20,
      "outputs": [
        {
          "output_type": "stream",
          "text": [
            "Hey Pilot Maara , input your current altitude - 2800\n",
            "Hey Pilot Maara, Just Land the plane on the Runway!!\n"
          ],
          "name": "stdout"
        }
      ]
    },
    {
      "cell_type": "code",
      "metadata": {
        "colab": {
          "base_uri": "https://localhost:8080/"
        },
        "id": "S2yYtsgiczSl",
        "outputId": "7d98a03e-03ad-43c4-e5ff-99fc232d7fc8"
      },
      "source": [
        " altitude = int(input (\"Hey Pilot Maara , input your current altitude - \"))\n",
        " \n",
        " \n",
        "if altitude >= 10000:\n",
        "   print (\"Hey Pilot Maara, Go around and Land the Plane after reducing your Altitude is 5K\")\n",
        "elif altitude >= 5000 and altitude <= 9999:\n",
        "   print (\"Hey Pilot Maara, Drop your Landing Gear\")\n",
        "elif altitude >= 3000 and altitude < 5000:\n",
        "   print (\"Hey Pilot Maara, Reduce even further\")\n",
        "else:\n",
        "   print (\"Plane Land kero!!!\")"
      ],
      "execution_count": 24,
      "outputs": [
        {
          "output_type": "stream",
          "text": [
            "Hey Pilot Maara , input your current altitude - 1000\n",
            "Plane Land kero!!!\n"
          ],
          "name": "stdout"
        }
      ]
    }
  ]
}